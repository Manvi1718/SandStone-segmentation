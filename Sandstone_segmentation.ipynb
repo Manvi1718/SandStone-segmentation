{
  "nbformat": 4,
  "nbformat_minor": 0,
  "metadata": {
    "colab": {
      "provenance": [],
      "gpuType": "T4",
      "authorship_tag": "ABX9TyN1BQEGMmkoxsLtYc3NITCu",
      "include_colab_link": true
    },
    "kernelspec": {
      "name": "python3",
      "display_name": "Python 3"
    },
    "language_info": {
      "name": "python"
    },
    "accelerator": "GPU"
  },
  "cells": [
    {
      "cell_type": "markdown",
      "metadata": {
        "id": "view-in-github",
        "colab_type": "text"
      },
      "source": [
        "<a href=\"https://colab.research.google.com/github/Manvi1718/SandStone-segmentation/blob/main/Sandstone_segmentation.ipynb\" target=\"_parent\"><img src=\"https://colab.research.google.com/assets/colab-badge.svg\" alt=\"Open In Colab\"/></a>"
      ]
    },
    {
      "cell_type": "code",
      "source": [
        "!pip install patchify"
      ],
      "metadata": {
        "colab": {
          "base_uri": "https://localhost:8080/"
        },
        "id": "c3kVh2gAvJan",
        "outputId": "4e821a49-fd3c-48da-f721-3caaee3b2b62"
      },
      "execution_count": 2,
      "outputs": [
        {
          "output_type": "stream",
          "name": "stdout",
          "text": [
            "Collecting patchify\n",
            "  Downloading patchify-0.2.3-py3-none-any.whl.metadata (3.0 kB)\n",
            "Collecting numpy<2,>=1 (from patchify)\n",
            "  Downloading numpy-1.26.4-cp311-cp311-manylinux_2_17_x86_64.manylinux2014_x86_64.whl.metadata (61 kB)\n",
            "\u001b[2K     \u001b[90m━━━━━━━━━━━━━━━━━━━━━━━━━━━━━━━━━━━━━━━━\u001b[0m \u001b[32m61.0/61.0 kB\u001b[0m \u001b[31m4.3 MB/s\u001b[0m eta \u001b[36m0:00:00\u001b[0m\n",
            "\u001b[?25hDownloading patchify-0.2.3-py3-none-any.whl (6.6 kB)\n",
            "Downloading numpy-1.26.4-cp311-cp311-manylinux_2_17_x86_64.manylinux2014_x86_64.whl (18.3 MB)\n",
            "\u001b[2K   \u001b[90m━━━━━━━━━━━━━━━━━━━━━━━━━━━━━━━━━━━━━━━━\u001b[0m \u001b[32m18.3/18.3 MB\u001b[0m \u001b[31m69.7 MB/s\u001b[0m eta \u001b[36m0:00:00\u001b[0m\n",
            "\u001b[?25hInstalling collected packages: numpy, patchify\n",
            "  Attempting uninstall: numpy\n",
            "    Found existing installation: numpy 2.0.2\n",
            "    Uninstalling numpy-2.0.2:\n",
            "      Successfully uninstalled numpy-2.0.2\n",
            "Successfully installed numpy-1.26.4 patchify-0.2.3\n"
          ]
        }
      ]
    },
    {
      "cell_type": "code",
      "source": [
        "import os\n",
        "import numpy as np\n",
        "import torch\n",
        "import tifffile as tiff\n",
        "import matplotlib.pyplot as plt\n",
        "from skimage import io\n",
        "from patchify import patchify, unpatchify\n",
        "from torch.utils.data import Dataset, DataLoader\n",
        "import torch.nn as nn\n",
        "import torch.optim as optim\n",
        "import torch.nn.functional as F\n"
      ],
      "metadata": {
        "id": "9pRSnFxvpMF1"
      },
      "execution_count": 27,
      "outputs": []
    },
    {
      "cell_type": "code",
      "source": [
        "# Mount Google Drive\n",
        "from google.colab import drive\n",
        "drive.mount('/content/drive')"
      ],
      "metadata": {
        "colab": {
          "base_uri": "https://localhost:8080/"
        },
        "id": "j5w2io8XpMCb",
        "outputId": "b23fc00a-9c92-4d56-d4fc-125bbfacd5ee"
      },
      "execution_count": 4,
      "outputs": [
        {
          "output_type": "stream",
          "name": "stdout",
          "text": [
            "Mounted at /content/drive\n"
          ]
        }
      ]
    },
    {
      "cell_type": "code",
      "source": [
        "# Define dataset path\n",
        "DATASET_PATH = \"/content/drive/MyDrive/Sandstone/data_for_3D_Unet\""
      ],
      "metadata": {
        "id": "B3N_-8LqpMAG"
      },
      "execution_count": 5,
      "outputs": []
    },
    {
      "cell_type": "code",
      "source": [
        "# Load 3D Image and Mask\n",
        "image = tiff.imread(os.path.join(DATASET_PATH, \"train_images_256_256_256.tif\"))\n",
        "mask = tiff.imread(os.path.join(DATASET_PATH, \"train_masks_256_256_256.tif\"))\n"
      ],
      "metadata": {
        "id": "EJiUvzWYpL9h"
      },
      "execution_count": 6,
      "outputs": []
    },
    {
      "cell_type": "code",
      "source": [
        "# Patchify images into (64,64,64) subvolumes\n",
        "patch_size = 64\n",
        "image_patches = patchify(image, (patch_size, patch_size, patch_size), step=patch_size)\n",
        "mask_patches = patchify(mask, (patch_size, patch_size, patch_size), step=patch_size)\n",
        "\n",
        "# Reshape to flatten patches\n",
        "X = image_patches.reshape(-1, patch_size, patch_size, patch_size)\n",
        "Y = mask_patches.reshape(-1, patch_size, patch_size, patch_size)\n",
        "\n",
        "print(\"Input shape:\", X.shape)  # (num_patches, 64, 64, 64)\n",
        "print(\"Mask shape:\", Y.shape)   # (num_patches, 64, 64, 64)"
      ],
      "metadata": {
        "colab": {
          "base_uri": "https://localhost:8080/"
        },
        "id": "FHu7LQcOpL6x",
        "outputId": "e7621ad8-8927-454a-b803-23bcccd780d4"
      },
      "execution_count": 7,
      "outputs": [
        {
          "output_type": "stream",
          "name": "stdout",
          "text": [
            "Input shape: (64, 64, 64, 64)\n",
            "Mask shape: (64, 64, 64, 64)\n"
          ]
        }
      ]
    },
    {
      "cell_type": "code",
      "source": [
        "# Define dataset class\n",
        "class SandstoneDataset(Dataset):\n",
        "    def __init__(self, images, masks):\n",
        "        self.images = images\n",
        "        self.masks = masks\n",
        "\n",
        "    def __len__(self):\n",
        "        return len(self.images)\n",
        "\n",
        "    def __getitem__(self, idx):\n",
        "        image = self.images[idx]\n",
        "        mask = self.masks[idx]\n",
        "\n",
        "        # Normalize the image\n",
        "        image = (image - np.min(image)) / (np.max(image) - np.min(image))\n",
        "\n",
        "        # Convert to torch tensors\n",
        "        image = torch.tensor(image, dtype=torch.float32).unsqueeze(0)  # Add channel dim\n",
        "        mask = torch.tensor(mask, dtype=torch.long)  # No channel dim for mask\n",
        "\n",
        "        return image, mask\n"
      ],
      "metadata": {
        "id": "4aTvKYnupL4G"
      },
      "execution_count": 8,
      "outputs": []
    },
    {
      "cell_type": "code",
      "source": [
        "# Create dataset and DataLoader\n",
        "dataset = SandstoneDataset(X, Y)\n",
        "train_loader = DataLoader(dataset, batch_size=4, shuffle=True)"
      ],
      "metadata": {
        "id": "BWa9LoVbpLsR"
      },
      "execution_count": 9,
      "outputs": []
    },
    {
      "cell_type": "code",
      "source": [
        "# Define 3D U-Net Model\n",
        "class UNet3D(nn.Module):\n",
        "    def __init__(self, in_channels=1, out_channels=4):  # 4 classes in segmentation\n",
        "        super(UNet3D, self).__init__()\n",
        "\n",
        "        def conv_block(in_c, out_c):\n",
        "            return nn.Sequential(\n",
        "                nn.Conv3d(in_c, out_c, kernel_size=3, padding=1),\n",
        "                nn.BatchNorm3d(out_c),\n",
        "                nn.ReLU(inplace=True),\n",
        "                nn.Conv3d(out_c, out_c, kernel_size=3, padding=1),\n",
        "                nn.BatchNorm3d(out_c),\n",
        "                nn.ReLU(inplace=True)\n",
        "            )\n",
        "\n",
        "        self.encoder = nn.Sequential(\n",
        "            conv_block(in_channels, 64),\n",
        "            nn.MaxPool3d(2),\n",
        "            conv_block(64, 128),\n",
        "            nn.MaxPool3d(2)\n",
        "        )\n",
        "\n",
        "        self.decoder = nn.Sequential(\n",
        "            conv_block(128, 64),\n",
        "            nn.Upsample(scale_factor=2, mode='trilinear', align_corners=False),\n",
        "            conv_block(64, out_channels)\n",
        "        )\n",
        "\n",
        "    def forward(self, x):\n",
        "        x = self.encoder(x)\n",
        "        x = self.decoder(x)\n",
        "        return x"
      ],
      "metadata": {
        "id": "g8WUa1nUpfEL"
      },
      "execution_count": 10,
      "outputs": []
    },
    {
      "cell_type": "code",
      "source": [
        "# Initialize model\n",
        "device = torch.device(\"cuda\" if torch.cuda.is_available() else \"cpu\")\n",
        "model = UNet3D().to(device)"
      ],
      "metadata": {
        "id": "rKpnkYtmpfAv"
      },
      "execution_count": 11,
      "outputs": []
    },
    {
      "cell_type": "code",
      "source": [
        "# Define loss function and optimizer\n",
        "criterion = nn.CrossEntropyLoss()\n",
        "optimizer = optim.Adam(model.parameters(), lr=0.001)"
      ],
      "metadata": {
        "id": "jp7txm00pi05"
      },
      "execution_count": 12,
      "outputs": []
    },
    {
      "cell_type": "code",
      "source": [
        "num_epochs = 100\n",
        "for epoch in range(num_epochs):\n",
        "    for images, masks in train_loader:\n",
        "        images, masks = images.to(device), masks.to(device)\n",
        "\n",
        "        # Forward pass\n",
        "        outputs = model(images)\n",
        "\n",
        "        # Resize the mask to match the output shape (downsampling)\n",
        "        masks = masks.float().unsqueeze(1)  # Add channel dim for interpolation\n",
        "        masks = F.interpolate(masks, size=outputs.shape[2:], mode=\"nearest\")  # Resize mask\n",
        "        masks = masks.squeeze(1).long()  # Remove extra channel & convert back to long\n",
        "\n",
        "        # Compute loss\n",
        "        loss = criterion(outputs, masks)\n",
        "\n",
        "        # Backward pass\n",
        "        optimizer.zero_grad()\n",
        "        loss.backward()\n",
        "        optimizer.step()\n",
        "    if(epoch % 5 == 0):\n",
        "        print(f\"Epoch [{epoch}/{num_epochs}], Loss: {loss.item():.4f}\")\n",
        "\n"
      ],
      "metadata": {
        "colab": {
          "base_uri": "https://localhost:8080/"
        },
        "id": "k4VURQzppmCe",
        "outputId": "4e8650aa-1779-48e4-d374-f315952f3d93"
      },
      "execution_count": 13,
      "outputs": [
        {
          "output_type": "stream",
          "name": "stdout",
          "text": [
            "Epoch [0/100], Loss: 1.1772\n",
            "Epoch [5/100], Loss: 0.9786\n",
            "Epoch [10/100], Loss: 0.9563\n",
            "Epoch [15/100], Loss: 0.9406\n",
            "Epoch [20/100], Loss: 0.8025\n",
            "Epoch [25/100], Loss: 0.7465\n",
            "Epoch [30/100], Loss: 0.7361\n",
            "Epoch [35/100], Loss: 0.6810\n",
            "Epoch [40/100], Loss: 0.6666\n",
            "Epoch [45/100], Loss: 0.6053\n",
            "Epoch [50/100], Loss: 0.5647\n",
            "Epoch [55/100], Loss: 0.5413\n",
            "Epoch [60/100], Loss: 0.5291\n",
            "Epoch [65/100], Loss: 0.4867\n",
            "Epoch [70/100], Loss: 0.4501\n",
            "Epoch [75/100], Loss: 0.4662\n",
            "Epoch [80/100], Loss: 0.4459\n",
            "Epoch [85/100], Loss: 0.4240\n",
            "Epoch [90/100], Loss: 0.4011\n",
            "Epoch [95/100], Loss: 0.4192\n"
          ]
        }
      ]
    },
    {
      "cell_type": "code",
      "source": [
        "# Save model\n",
        "torch.save(model.state_dict(), \"/content/drive/MyDrive/Sandstone/3D_Unet_Sandstone_Model.pth\")"
      ],
      "metadata": {
        "id": "WkyIDU8epl_E"
      },
      "execution_count": 14,
      "outputs": []
    },
    {
      "cell_type": "code",
      "source": [
        "# Model evaluation\n",
        "model.eval()\n",
        "test_image, test_mask = dataset[0]\n",
        "test_image = test_image.unsqueeze(0).to(device)  # Add batch dim\n",
        "\n",
        "with torch.no_grad():\n",
        "    pred_mask = model(test_image)\n",
        "\n",
        "pred_mask = torch.argmax(pred_mask, dim=1).cpu().numpy()[0]"
      ],
      "metadata": {
        "id": "FJMm0QIfp7Oa"
      },
      "execution_count": 15,
      "outputs": []
    },
    {
      "cell_type": "code",
      "source": [
        "plt.figure(figsize=(15, 7), dpi=100)\n",
        "\n",
        "plt.subplot(1, 2, 1)\n",
        "plt.title(\"Input Image Slice\", fontsize=14)\n",
        "plt.imshow(test_image.cpu().numpy()[0, 0, :, :, 20], cmap='plasma', vmin=0, vmax=1)\n",
        "plt.colorbar()\n",
        "\n",
        "plt.subplot(1, 2, 2)\n",
        "plt.title(\"Predicted Mask Slice\", fontsize=14)\n",
        "plt.imshow(pred_mask[:, :, 20], cmap='plasma', alpha=0.8)\n",
        "plt.colorbar()\n",
        "\n",
        "plt.tight_layout()\n",
        "plt.show()\n"
      ],
      "metadata": {
        "colab": {
          "base_uri": "https://localhost:8080/",
          "height": 691
        },
        "id": "QxbzMGD_p7K-",
        "outputId": "4f17eb31-f30b-4852-b75d-6f7bcfec8352"
      },
      "execution_count": 16,
      "outputs": [
        {
          "output_type": "display_data",
          "data": {
            "text/plain": [
              "<Figure size 1500x700 with 4 Axes>"
            ],
            "image/png": "[encoded data removed]"
          },
          "metadata": {}
        }
      ]
    },
    {
      "cell_type": "code",
      "source": [
        "# Load large test image\n",
        "large_image = tiff.imread(\"/content/drive/MyDrive/Sandstone/data_for_3D_Unet/448_images_512x512.tif\")"
      ],
      "metadata": {
        "id": "ZxiC_WigqF8n"
      },
      "execution_count": 18,
      "outputs": []
    },
    {
      "cell_type": "code",
      "source": [
        "# Patchify into (64,64,64)\n",
        "patches = patchify(large_image, (64, 64, 64), step=64)"
      ],
      "metadata": {
        "id": "oVD35iFEqF5L"
      },
      "execution_count": 19,
      "outputs": []
    },
    {
      "cell_type": "code",
      "source": [
        "import torch.nn.functional as F\n",
        "\n",
        "# Ensure predicted patches have the correct shape\n",
        "predicted_patches = np.zeros_like(patches)\n",
        "\n",
        "for i in range(patches.shape[0]):\n",
        "    for j in range(patches.shape[1]):\n",
        "        for k in range(patches.shape[2]):\n",
        "            single_patch = patches[i, j, k, :, :, :]\n",
        "\n",
        "            # Convert to tensor\n",
        "            input_tensor = torch.tensor(single_patch, dtype=torch.float32).unsqueeze(0).unsqueeze(0).to(device)\n",
        "\n",
        "            # Predict\n",
        "            with torch.no_grad():\n",
        "                pred_patch = model(input_tensor)\n",
        "\n",
        "            # Ensure prediction has 3D shape (N, C, D, H, W)\n",
        "            if pred_patch.ndim == 4:  # (N, C, H, W) -> Convert to (N, C, 1, H, W)\n",
        "                pred_patch = pred_patch.unsqueeze(2)\n",
        "\n",
        "            # Get class-wise prediction\n",
        "            pred_patch = torch.argmax(pred_patch, dim=1, keepdim=True)  # Keep (N, 1, D, H, W)\n",
        "\n",
        "            # Resize correctly\n",
        "            pred_patch = F.interpolate(pred_patch.float(), size=(64, 64, 64), mode='trilinear', align_corners=False)\n",
        "\n",
        "            # Convert back to NumPy\n",
        "            pred_patch = pred_patch.squeeze(0).squeeze(0).cpu().numpy()\n",
        "\n",
        "            # Store in correct location\n",
        "            predicted_patches[i, j, k, :, :, :] = pred_patch\n",
        "\n",
        "# Reconstruct full image\n",
        "segmented_image = unpatchify(predicted_patches, large_image.shape)\n"
      ],
      "metadata": {
        "id": "pdkDpxfJqKSe"
      },
      "execution_count": 28,
      "outputs": []
    },
    {
      "cell_type": "code",
      "source": [
        "tiff.imwrite(\"/content/drive/MyDrive/Sandstone/segmented.tif\", segmented_image)"
      ],
      "metadata": {
        "id": "YyDe8EtkqN_k"
      },
      "execution_count": 29,
      "outputs": []
    }
  ]
}